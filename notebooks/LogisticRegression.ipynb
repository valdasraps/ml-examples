{
 "cells": [
  {
   "cell_type": "code",
   "execution_count": 32,
   "metadata": {},
   "outputs": [],
   "source": [
    "from sklearn.linear_model import LogisticRegression\n",
    "from sklearn import datasets\n",
    "import numpy as np\n",
    "import matplotlib.pyplot as plt"
   ]
  },
  {
   "cell_type": "markdown",
   "metadata": {},
   "source": [
    "## Dataset"
   ]
  },
  {
   "cell_type": "code",
   "execution_count": 347,
   "metadata": {},
   "outputs": [],
   "source": [
    "iris = datasets.load_iris()\n",
    "x = iris.data[:,[0,3]]\n",
    "y = iris.target"
   ]
  },
  {
   "cell_type": "code",
   "execution_count": 348,
   "metadata": {},
   "outputs": [],
   "source": [
    "y[y == 2] = 1"
   ]
  },
  {
   "cell_type": "code",
   "execution_count": 349,
   "metadata": {},
   "outputs": [
    {
     "data": {
      "image/png": "[encoded data removed]",
      "text/plain": [
       "<Figure size 432x288 with 1 Axes>"
      ]
     },
     "metadata": {
      "needs_background": "light"
     },
     "output_type": "display_data"
    }
   ],
   "source": [
    "plt.scatter(x[:,0][y == 0.], x[:,1][y == 0.])\n",
    "plt.scatter(x[:,0][y == 1.], x[:,1][y == 1.])\n",
    "plt.show()"
   ]
  },
  {
   "cell_type": "markdown",
   "metadata": {},
   "source": [
    "## Sklearn LogisticRegression"
   ]
  },
  {
   "cell_type": "code",
   "execution_count": 350,
   "metadata": {},
   "outputs": [
    {
     "data": {
      "text/plain": [
       "LogisticRegression(C=1.0, class_weight=None, dual=False, fit_intercept=True,\n",
       "          intercept_scaling=1, max_iter=100, multi_class='warn',\n",
       "          n_jobs=None, penalty='l2', random_state=None, solver='lbfgs',\n",
       "          tol=0.0001, verbose=0, warm_start=False)"
      ]
     },
     "execution_count": 350,
     "metadata": {},
     "output_type": "execute_result"
    }
   ],
   "source": [
    "log = LogisticRegression(solver='lbfgs')\n",
    "log.fit(x,y)"
   ]
  },
  {
   "cell_type": "code",
   "execution_count": 351,
   "metadata": {},
   "outputs": [
    {
     "name": "stdout",
     "output_type": "stream",
     "text": [
      "intercept = -10.481505450266111\n",
      "slopes    = [1.3983599  3.91315269]\n"
     ]
    }
   ],
   "source": [
    "w0 = log.intercept_[0]\n",
    "wS = log.coef_[0]\n",
    "\n",
    "print(f'intercept = {w0}')\n",
    "print(f'slopes    = {wS}')"
   ]
  },
  {
   "cell_type": "code",
   "execution_count": 352,
   "metadata": {},
   "outputs": [
    {
     "data": {
      "image/png": "[encoded data removed]",
      "text/plain": [
       "<Figure size 432x288 with 1 Axes>"
      ]
     },
     "metadata": {
      "needs_background": "light"
     },
     "output_type": "display_data"
    }
   ],
   "source": [
    "x1 = np.linspace(np.min(x[:,0]), np.max(x[:,0]), num = 10)\n",
    "y1 = -( wS[0] * x1 + w0)/wS[1]\n",
    "plt.scatter(x[:,0][y == 0.], x[:,1][y == 0.])\n",
    "plt.scatter(x[:,0][y == 1.], x[:,1][y == 1.])\n",
    "plt.plot(x1, y1, '-r')\n",
    "plt.ylim((np.min(x[:,1]), np.max(x[:,1])))\n",
    "plt.show()"
   ]
  },
  {
   "cell_type": "markdown",
   "metadata": {},
   "source": [
    "## Gradient ascent"
   ]
  },
  {
   "cell_type": "code",
   "execution_count": 353,
   "metadata": {},
   "outputs": [],
   "source": [
    "p = x.shape[1] + 1\n",
    "n = x.shape[0]\n",
    "eps = 0.005\n",
    "eta = 0.005"
   ]
  },
  {
   "cell_type": "code",
   "execution_count": 354,
   "metadata": {},
   "outputs": [
    {
     "data": {
      "text/plain": [
       "array([0., 0., 0.])"
      ]
     },
     "execution_count": 354,
     "metadata": {},
     "output_type": "execute_result"
    }
   ],
   "source": [
    "W = np.zeros((p,))\n",
    "W"
   ]
  },
  {
   "cell_type": "code",
   "execution_count": 355,
   "metadata": {},
   "outputs": [
    {
     "data": {
      "text/plain": [
       "(150, 3)"
      ]
     },
     "execution_count": 355,
     "metadata": {},
     "output_type": "execute_result"
    }
   ],
   "source": [
    "H = np.append(np.ones((n,1)), x, axis=1)\n",
    "H.shape"
   ]
  },
  {
   "cell_type": "code",
   "execution_count": 356,
   "metadata": {
    "scrolled": true
   },
   "outputs": [],
   "source": [
    "A = 1 / (1 + np.e ** -np.dot(W, H.T))"
   ]
  },
  {
   "cell_type": "code",
   "execution_count": 357,
   "metadata": {},
   "outputs": [],
   "source": [
    "G = np.dot(y - A, H)"
   ]
  },
  {
   "cell_type": "code",
   "execution_count": 358,
   "metadata": {},
   "outputs": [],
   "source": [
    "t = 1\n",
    "while np.dot(G, G) > eps:\n",
    "    W = W + eta * G\n",
    "    A = 1 / (1 + np.e ** -np.dot(W, H.T))\n",
    "    G = np.dot(y - A, H)\n",
    "    t = t + 1"
   ]
  },
  {
   "cell_type": "code",
   "execution_count": 359,
   "metadata": {},
   "outputs": [
    {
     "data": {
      "text/plain": [
       "array([-3.97195003, -1.60602513, 16.74888397])"
      ]
     },
     "execution_count": 359,
     "metadata": {},
     "output_type": "execute_result"
    }
   ],
   "source": [
    "W"
   ]
  },
  {
   "cell_type": "code",
   "execution_count": 360,
   "metadata": {
    "scrolled": true
   },
   "outputs": [
    {
     "data": {
      "image/png": "[encoded data removed]",
      "text/plain": [
       "<Figure size 432x288 with 1 Axes>"
      ]
     },
     "metadata": {
      "needs_background": "light"
     },
     "output_type": "display_data"
    }
   ],
   "source": [
    "x1 = np.linspace(np.min(x[:,0]), np.max(x[:,0]), num = 10)\n",
    "y1 = -( W[0] + W[1] * x1) / W[2]\n",
    "plt.scatter(x[:,0][y == 0.], x[:,1][y == 0.])\n",
    "plt.scatter(x[:,0][y == 1.], x[:,1][y == 1.])\n",
    "plt.plot(x1, y1, '-r')\n",
    "plt.ylim((np.min(x[:,1]), np.max(x[:,1])))\n",
    "plt.show()"
   ]
  },
  {
   "cell_type": "markdown",
   "metadata": {},
   "source": [
    "## Gradient ascent, p + 1"
   ]
  },
  {
   "cell_type": "code",
   "execution_count": 361,
   "metadata": {},
   "outputs": [
    {
     "data": {
      "text/plain": [
       "(150, 4)"
      ]
     },
     "execution_count": 361,
     "metadata": {},
     "output_type": "execute_result"
    }
   ],
   "source": [
    "H = np.append(np.ones((n,1)), x, axis=1)\n",
    "H = np.append(H, x[:,0][:,np.newaxis] ** 2, axis=1)\n",
    "H.shape"
   ]
  },
  {
   "cell_type": "code",
   "execution_count": 362,
   "metadata": {
    "scrolled": true
   },
   "outputs": [],
   "source": [
    "def gradient_ascent(H, eps = 0.005, eta = 0.005):\n",
    "    n, p = H.shape\n",
    "    \n",
    "    W = np.zeros((p,))\n",
    "    A = 1 / (1 + np.e ** -np.dot(W, H.T))\n",
    "    G = np.dot(y - A, H)\n",
    "    t = 1\n",
    "    while np.dot(G, G) > eps:\n",
    "        W = W + eta * G\n",
    "        A = 1 / (1 + np.e ** -np.dot(W, H.T))\n",
    "        G = np.dot(y - A, H)\n",
    "        t = t + 1\n",
    "        \n",
    "    return W"
   ]
  },
  {
   "cell_type": "code",
   "execution_count": 363,
   "metadata": {},
   "outputs": [
    {
     "data": {
      "text/plain": [
       "array([-13.30049107, -37.2783323 ,  48.26970092,   6.26599076])"
      ]
     },
     "execution_count": 363,
     "metadata": {},
     "output_type": "execute_result"
    }
   ],
   "source": [
    "W = gradient_ascent(H)\n",
    "W"
   ]
  },
  {
   "cell_type": "code",
   "execution_count": 364,
   "metadata": {
    "scrolled": true
   },
   "outputs": [
    {
     "data": {
      "image/png": "[encoded data removed]",
      "text/plain": [
       "<Figure size 432x288 with 1 Axes>"
      ]
     },
     "metadata": {
      "needs_background": "light"
     },
     "output_type": "display_data"
    }
   ],
   "source": [
    "x1 = np.linspace(np.min(x[:,0]), np.max(x[:,0]), num = 10)\n",
    "y1 = -( W[0] + W[1] * x1 + W[3] * (x1 ** 2)) / W[2]\n",
    "plt.scatter(x[:,0][y == 0.], x[:,1][y == 0.])\n",
    "plt.scatter(x[:,0][y == 1.], x[:,1][y == 1.])\n",
    "plt.plot(x1, y1, '-r')\n",
    "plt.ylim((np.min(x[:,1]), np.max(x[:,1])))\n",
    "plt.show()"
   ]
  },
  {
   "cell_type": "markdown",
   "metadata": {},
   "source": [
    "## Gradient ascent, p + 2"
   ]
  },
  {
   "cell_type": "code",
   "execution_count": 365,
   "metadata": {},
   "outputs": [
    {
     "data": {
      "text/plain": [
       "(150, 5)"
      ]
     },
     "execution_count": 365,
     "metadata": {},
     "output_type": "execute_result"
    }
   ],
   "source": [
    "H = np.append(np.ones((n,1)), x, axis=1)\n",
    "H = np.append(H, x[:,0][:,np.newaxis] ** 2, axis=1)\n",
    "H = np.append(H, x[:,0][:,np.newaxis] ** 3, axis=1)\n",
    "H.shape"
   ]
  },
  {
   "cell_type": "code",
   "execution_count": 366,
   "metadata": {},
   "outputs": [
    {
     "name": "stderr",
     "output_type": "stream",
     "text": [
      "/home/valdo/.local/share/virtualenvs/hypersp-OUlGHzYz/lib/python3.6/site-packages/ipykernel_launcher.py:10: RuntimeWarning: overflow encountered in power\n",
      "  # Remove the CWD from sys.path while we load stuff.\n"
     ]
    },
    {
     "data": {
      "text/plain": [
       "array([  -2.02152862,  -35.16243386,  952.5225803 , -185.53332275,\n",
       "         31.33799852])"
      ]
     },
     "execution_count": 366,
     "metadata": {},
     "output_type": "execute_result"
    }
   ],
   "source": [
    "W = gradient_ascent(H)\n",
    "W"
   ]
  },
  {
   "cell_type": "code",
   "execution_count": 367,
   "metadata": {
    "scrolled": true
   },
   "outputs": [
    {
     "data": {
      "image/png": "[encoded data removed]",
      "text/plain": [
       "<Figure size 432x288 with 1 Axes>"
      ]
     },
     "metadata": {
      "needs_background": "light"
     },
     "output_type": "display_data"
    }
   ],
   "source": [
    "x1 = np.linspace(np.min(x[:,0]), np.max(x[:,0]), num = 10)\n",
    "y1 = -( W[0] + W[1] * x1 + W[3] * (x1 ** 2) + W[4] * (x1 ** 3)) / W[2]\n",
    "plt.scatter(x[:,0][y == 0.], x[:,1][y == 0.])\n",
    "plt.scatter(x[:,0][y == 1.], x[:,1][y == 1.])\n",
    "plt.plot(x1, y1, '-r')\n",
    "plt.ylim((np.min(x[:,1]), np.max(x[:,1])))\n",
    "plt.show()"
   ]
  },
  {
   "cell_type": "code",
   "execution_count": null,
   "metadata": {},
   "outputs": [],
   "source": []
  },
  {
   "cell_type": "code",
   "execution_count": null,
   "metadata": {},
   "outputs": [],
   "source": []
  }
 ],
 "metadata": {
  "kernelspec": {
   "display_name": "Python3",
   "language": "python",
   "name": "python3"
  },
  "language_info": {
   "codemirror_mode": {
    "name": "ipython",
    "version": 3
   },
   "file_extension": ".py",
   "mimetype": "text/x-python",
   "name": "python",
   "nbconvert_exporter": "python",
   "pygments_lexer": "ipython3",
   "version": "3.6.9"
  }
 },
 "nbformat": 4,
 "nbformat_minor": 2
}
