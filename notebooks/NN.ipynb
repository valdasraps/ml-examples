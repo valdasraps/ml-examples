{
 "cells": [
  {
   "cell_type": "code",
   "execution_count": 12,
   "metadata": {},
   "outputs": [],
   "source": [
    "import math\n",
    "import numpy as np\n",
    "import matplotlib.pyplot as plt"
   ]
  },
  {
   "cell_type": "code",
   "execution_count": 23,
   "metadata": {},
   "outputs": [
    {
     "name": "stdout",
     "output_type": "stream",
     "text": [
      "((4, 2), (4,))\n"
     ]
    }
   ],
   "source": [
    "X = np.array([[1.0,1.0],[1.0,2.0],[2.0,1.0],[2.0,2.0]])\n",
    "Y = np.array([1.0,0.0,0.0,1.0])\n",
    "print(X.shape, Y.shape)"
   ]
  },
  {
   "cell_type": "code",
   "execution_count": 24,
   "metadata": {},
   "outputs": [
    {
     "data": {
      "image/png": "[encoded data removed]",
      "text/plain": [
       "<Figure size 432x288 with 1 Axes>"
      ]
     },
     "metadata": {
      "needs_background": "light"
     },
     "output_type": "display_data"
    }
   ],
   "source": [
    "plt.scatter(X[:,0][Y == 0.0], X[:,1][Y == 0.0])\n",
    "plt.scatter(X[:,0][Y == 1.0], X[:,1][Y == 1.0])\n",
    "plt.ylim((0,3))\n",
    "plt.xlim((0,3))\n",
    "plt.show()"
   ]
  },
  {
   "cell_type": "markdown",
   "metadata": {},
   "source": [
    "## NN step-by-step"
   ]
  },
  {
   "cell_type": "code",
   "execution_count": 98,
   "metadata": {},
   "outputs": [],
   "source": [
    "def sigmoid(x):  \n",
    "    return math.exp(-np.logaddexp(0, -x))\n",
    "sigmoid_v = np.vectorize(sigmoid)"
   ]
  },
  {
   "cell_type": "code",
   "execution_count": 99,
   "metadata": {},
   "outputs": [],
   "source": [
    "def mse(x, z):\n",
    "    return np.average(np.power(x - z, 2))"
   ]
  },
  {
   "cell_type": "markdown",
   "metadata": {},
   "source": [
    "Initializing weight"
   ]
  },
  {
   "cell_type": "code",
   "execution_count": 44,
   "metadata": {},
   "outputs": [
    {
     "name": "stdout",
     "output_type": "stream",
     "text": [
      "[[0.14313363 0.47317427 0.04965569]\n",
      " [0.1856778  0.83612177 0.14575483]]\n",
      "[[0.00065237 0.43555032 0.62901206]]\n"
     ]
    }
   ],
   "source": [
    "W1 = np.random.rand(2,3)\n",
    "W2 = np.random.rand(1,3)\n",
    "print(W1)\n",
    "print(W2)"
   ]
  },
  {
   "cell_type": "markdown",
   "metadata": {},
   "source": [
    "Adding bias to first input"
   ]
  },
  {
   "cell_type": "code",
   "execution_count": 45,
   "metadata": {},
   "outputs": [
    {
     "data": {
      "text/plain": [
       "array([1., 1., 1.])"
      ]
     },
     "execution_count": 45,
     "metadata": {},
     "output_type": "execute_result"
    }
   ],
   "source": [
    "x = np.insert(X[0,:], 0, 1)\n",
    "x"
   ]
  },
  {
   "cell_type": "markdown",
   "metadata": {},
   "source": [
    "Calculating first layer output"
   ]
  },
  {
   "cell_type": "code",
   "execution_count": 50,
   "metadata": {},
   "outputs": [
    {
     "data": {
      "text/plain": [
       "array([1.        , 0.66059875, 0.76270268])"
      ]
     },
     "execution_count": 50,
     "metadata": {},
     "output_type": "execute_result"
    }
   ],
   "source": [
    "x = np.insert(sigmoid_v(x.dot(W1.T)), 0, 1)\n",
    "x"
   ]
  },
  {
   "cell_type": "markdown",
   "metadata": {},
   "source": [
    "Calculating second layer (NN) output"
   ]
  },
  {
   "cell_type": "code",
   "execution_count": 52,
   "metadata": {},
   "outputs": [
    {
     "data": {
      "text/plain": [
       "0.6831152722862225"
      ]
     },
     "execution_count": 52,
     "metadata": {},
     "output_type": "execute_result"
    }
   ],
   "source": [
    "sigmoid_v(x.dot(W2.T))[0]"
   ]
  },
  {
   "cell_type": "markdown",
   "metadata": {},
   "source": [
    "## NN class"
   ]
  },
  {
   "cell_type": "code",
   "execution_count": 296,
   "metadata": {},
   "outputs": [],
   "source": [
    "class Layer:\n",
    "    \n",
    "    def __init__(self, size, previous = None):\n",
    "        \n",
    "        self.size = size\n",
    "        self.previous = previous\n",
    "        \n",
    "        if previous is not None:\n",
    "            self.W = np.random.rand(size, previous.size + 1)\n",
    "\n",
    "    def forward(self, x):\n",
    "        return sigmoid_v(x.dot(self.W.T))"
   ]
  },
  {
   "cell_type": "code",
   "execution_count": 450,
   "metadata": {},
   "outputs": [],
   "source": [
    "class NN:\n",
    "    \n",
    "    eta = 0.05\n",
    "    \n",
    "    def __init__(self, input_size):\n",
    "        self.layers = [ Layer(input_size) ]\n",
    "    \n",
    "    def append(self, size):\n",
    "        self.layers.append(Layer(size, self.layers[-1]))\n",
    "        return self\n",
    "\n",
    "    def forward(self, x):\n",
    "        ret = [ x ]\n",
    "        for i in range(1,len(self.layers)):\n",
    "            x = self.layers[i].forward(np.insert(x, 0, 1))\n",
    "            ret.append(x)\n",
    "        return ret\n",
    "    \n",
    "    def error(self, x, y):\n",
    "        z = self.forward(x)\n",
    "        return mse(z[-1], y)\n",
    "        \n",
    "    def delta(self, x, y):\n",
    "        d = []\n",
    "        Z = np.flip(self.forward(x))\n",
    "        n = len(self.layers)\n",
    "        for i in range(0, len(Z) - 1):\n",
    "            z = Z[i]\n",
    "            if i == 0:\n",
    "                d.insert(0, (z - y) * z * (1 - z))\n",
    "            else:\n",
    "                d.insert(0, self.layers[n - i].W[:,1:] * np.sum(Z[i - 1]) * z * (1 - z))\n",
    "        return d\n",
    "    \n",
    "    def gradient(self, x, y):\n",
    "        g = []\n",
    "        Z = self.forward(x)\n",
    "        D = self.delta(x, y)\n",
    "        for i in range(0,len(self.layers) - 1):\n",
    "            \n",
    "            shape = self.layers[i + 1].W.shape\n",
    "            \n",
    "            d = D[i]\n",
    "            d1 = np.repeat(d[:, np.newaxis], shape[1], axis = 1)[0].T\n",
    "            #print(d1)\n",
    "            \n",
    "            z = np.insert(Z[i], 0, 1)\n",
    "            z1 = np.repeat(z[:,np.newaxis], shape[0], axis=1).T\n",
    "            #print(z1)\n",
    "            \n",
    "            g.append(z1 * d1)\n",
    "            \n",
    "        return g"
   ]
  },
  {
   "cell_type": "code",
   "execution_count": 451,
   "metadata": {},
   "outputs": [
    {
     "data": {
      "text/plain": [
       "<__main__.NN instance at 0x7f7e3ca23290>"
      ]
     },
     "execution_count": 451,
     "metadata": {},
     "output_type": "execute_result"
    }
   ],
   "source": [
    "nn = NN(2).append(2).append(1)\n",
    "nn"
   ]
  },
  {
   "cell_type": "code",
   "execution_count": 452,
   "metadata": {},
   "outputs": [
    {
     "name": "stdout",
     "output_type": "stream",
     "text": [
      "(array([1., 1.]), 1.0)\n"
     ]
    }
   ],
   "source": [
    "x = X[0]\n",
    "y = Y[0]\n",
    "print(x,y)"
   ]
  },
  {
   "cell_type": "code",
   "execution_count": 453,
   "metadata": {},
   "outputs": [
    {
     "data": {
      "text/plain": [
       "[array([1., 1.]), array([0.83382214, 0.77633614]), array([0.92108368])]"
      ]
     },
     "execution_count": 453,
     "metadata": {},
     "output_type": "execute_result"
    }
   ],
   "source": [
    "nn.forward(x)"
   ]
  },
  {
   "cell_type": "code",
   "execution_count": 454,
   "metadata": {},
   "outputs": [
    {
     "data": {
      "text/plain": [
       "0.00622778579223855"
      ]
     },
     "execution_count": 454,
     "metadata": {},
     "output_type": "execute_result"
    }
   ],
   "source": [
    "nn.error(x,y)"
   ]
  },
  {
   "cell_type": "code",
   "execution_count": 455,
   "metadata": {},
   "outputs": [
    {
     "data": {
      "text/plain": [
       "[array([[0.1148998 , 0.15109136]]), array([-0.00573631])]"
      ]
     },
     "execution_count": 455,
     "metadata": {},
     "output_type": "execute_result"
    }
   ],
   "source": [
    "nn.delta(x,y)"
   ]
  },
  {
   "cell_type": "code",
   "execution_count": 456,
   "metadata": {},
   "outputs": [
    {
     "data": {
      "text/plain": [
       "[array([[0.1148998 , 0.1148998 , 0.1148998 ],\n",
       "        [0.15109136, 0.15109136, 0.15109136]]),\n",
       " array([[-0.00573631, -0.00478306, -0.00445331]])]"
      ]
     },
     "execution_count": 456,
     "metadata": {},
     "output_type": "execute_result"
    }
   ],
   "source": [
    "nn.gradient(x,y)"
   ]
  },
  {
   "cell_type": "code",
   "execution_count": null,
   "metadata": {},
   "outputs": [],
   "source": []
  }
 ],
 "metadata": {
  "kernelspec": {
   "display_name": "Python 2",
   "language": "python",
   "name": "python2"
  },
  "language_info": {
   "codemirror_mode": {
    "name": "ipython",
    "version": 2
   },
   "file_extension": ".py",
   "mimetype": "text/x-python",
   "name": "python",
   "nbconvert_exporter": "python",
   "pygments_lexer": "ipython2",
   "version": "2.7.16"
  }
 },
 "nbformat": 4,
 "nbformat_minor": 2
}
